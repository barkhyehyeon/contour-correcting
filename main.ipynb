{
 "cells": [
  {
   "cell_type": "code",
   "execution_count": 1,
   "metadata": {
    "ExecuteTime": {
     "end_time": "2020-03-23T09:06:45.127140Z",
     "start_time": "2020-03-23T09:06:44.694888Z"
    }
   },
   "outputs": [],
   "source": [
    "from image_utils import *\n",
    "import matplotlib.pyplot as plt\n",
    "%load_ext autoreload\n",
    "%autoreload 2"
   ]
  },
  {
   "cell_type": "code",
   "execution_count": 2,
   "metadata": {
    "ExecuteTime": {
     "end_time": "2020-03-23T09:06:45.143005Z",
     "start_time": "2020-03-23T09:06:45.129090Z"
    }
   },
   "outputs": [],
   "source": [
    "def get_points_on_line(a, b, c, start, end):\n",
    "    '''\n",
    "    line: ay = bx + c\n",
    "    returns a list of coordinate tuples\n",
    "    '''\n",
    "    line = []\n",
    "    if a == 0:\n",
    "        x = -c\n",
    "        for y in range(start[1], end[1]):\n",
    "            line.append((x, y))\n",
    "        return line\n",
    "    for x in range(start[0], end[0]):\n",
    "        y = int(round(b * x + c))\n",
    "        line.append((x, y))\n",
    "    return line"
   ]
  },
  {
   "cell_type": "code",
   "execution_count": 3,
   "metadata": {
    "ExecuteTime": {
     "end_time": "2020-03-23T09:06:45.159001Z",
     "start_time": "2020-03-23T09:06:45.144287Z"
    }
   },
   "outputs": [],
   "source": [
    "def get_weight(p1, p2):\n",
    "    '''\n",
    "    returns weights of a line of which p1 and p2 are endpoints\n",
    "    line: ay = bx + c\n",
    "    '''\n",
    "    if p1[0] == p2[0]:\n",
    "        a = 0\n",
    "        b = 1\n",
    "        c = -p1[0]\n",
    "    else:\n",
    "        a = 1\n",
    "        b = (p1[1] - p2[1]) / (p1[0] - p2[0])\n",
    "        c = p2[1] - b * p2[0]\n",
    "    return a, b, c"
   ]
  },
  {
   "cell_type": "code",
   "execution_count": 4,
   "metadata": {
    "ExecuteTime": {
     "end_time": "2020-03-23T09:06:45.174988Z",
     "start_time": "2020-03-23T09:06:45.161410Z"
    }
   },
   "outputs": [],
   "source": [
    "def find_major_axis(edge_loc_tuples, center):\n",
    "    major_axis_endpoints = None\n",
    "    major_axis_length_sq = -1\n",
    "    major_axis_a, major_axis_b, major_axis_c = None, None, None\n",
    "    for p in edge_loc_tuples:\n",
    "        a, b, c = get_weight(p, center)          \n",
    "        line = get_points_on_line(a, b, c, (0, 0), (512, 512))\n",
    "        endpoints = list(set(edge_loc_tuples).intersection(set(line)))\n",
    "        if len(endpoints) < 2:\n",
    "            continue\n",
    "        endpoints.sort()\n",
    "        if len(endpoints) > 2:\n",
    "            endpoints = [endpoints[0], endpoints[-1]]\n",
    "        axis_length_sq = (endpoints[0][0] - endpoints[1][0])**2 + (endpoints[0][1] - endpoints[1][1])**2\n",
    "        if axis_length_sq > major_axis_length_sq:\n",
    "            major_axis_endpoints = endpoints\n",
    "            major_axis_length_sq = axis_length_sq\n",
    "            major_axis_a, major_axis_b, major_axis_c = a, b, c\n",
    "            \n",
    "    return major_axis_endpoints, major_axis_length_sq, major_axis_a, major_axis_b, major_axis_c"
   ]
  },
  {
   "cell_type": "code",
   "execution_count": 5,
   "metadata": {
    "ExecuteTime": {
     "end_time": "2020-03-23T09:06:45.190998Z",
     "start_time": "2020-03-23T09:06:45.177295Z"
    }
   },
   "outputs": [],
   "source": [
    "def rotate_line(line, center, rd):\n",
    "    line.sort()\n",
    "    start, end = line[0], line[-1]\n",
    "    rotated_points = [rotate_point(center, start, rd), rotate_point(center, end, rd)]\n",
    "    rotated_points.sort()\n",
    "    start, end = rotated_points[0], rotated_points[1]\n",
    "    a, b, c = get_weight(start, end)\n",
    "    return get_points_on_line(a, b, c, point_to_integer(start), point_to_integer(end))"
   ]
  },
  {
   "cell_type": "code",
   "execution_count": 6,
   "metadata": {
    "ExecuteTime": {
     "end_time": "2020-03-23T09:06:45.207003Z",
     "start_time": "2020-03-23T09:06:45.192247Z"
    }
   },
   "outputs": [],
   "source": [
    "def find_interpolation_args(center, edge_loc_tuples, half_axis):\n",
    "    points = [major_axis_endpoints[1]]\n",
    "    for i in range(1, 8):\n",
    "        rd = i * 45\n",
    "        point_tmp = []\n",
    "        while len(point_tmp) < 1:\n",
    "            rotated_line = rotate_line(half_axis, center, rd)\n",
    "            point_tmp = list(set(edge_loc_tuples).intersection(set(rotated_line)))\n",
    "            rd += .1\n",
    "        if len(point_tmp) > 1:\n",
    "            point_tmp.sort(key=lambda p: math.sqrt((p[0] - center[0])**2 + (p[1] - center[1])**2))\n",
    "        points.append(point_tmp[-1])\n",
    "    args = []\n",
    "    for p in points:\n",
    "        args.append(np.asarray(p))\n",
    "    args.append(args[0])\n",
    "    return np.asarray(args)"
   ]
  },
  {
   "cell_type": "code",
   "execution_count": 7,
   "metadata": {
    "ExecuteTime": {
     "end_time": "2020-03-23T09:06:45.222999Z",
     "start_time": "2020-03-23T09:06:45.208225Z"
    }
   },
   "outputs": [],
   "source": [
    "def plot_points(edge_loc, interpolation_args, center):\n",
    "    x, y = list(edge_loc[:,0]),list(edge_loc[:,1])\n",
    "    fig = plt.figure(figsize=(6,6))\n",
    "    ax = fig.add_subplot(111)\n",
    "    ax.axis('equal')\n",
    "    ax.plot(x, y, 'ro', label='edges', zorder=1)\n",
    "    ax.plot(center[0], center[1], 'bo', label='edges', zorder=1)\n",
    "    for i in range(8):\n",
    "        x, y = interpolation_args[i,0], interpolation_args[i,1]\n",
    "        ax.plot(x, y, 'bo', label='edges', zorder=1)\n",
    "    plt.show()"
   ]
  },
  {
   "cell_type": "code",
   "execution_count": 11,
   "metadata": {
    "ExecuteTime": {
     "end_time": "2020-03-23T09:11:54.187033Z",
     "start_time": "2020-03-23T09:11:51.816736Z"
    }
   },
   "outputs": [
    {
     "data": {
      "image/png": "[encoded data removed]",
      "text/plain": [
       "<Figure size 432x432 with 1 Axes>"
      ]
     },
     "metadata": {
      "needs_background": "light"
     },
     "output_type": "display_data"
    },
    {
     "data": {
      "image/png": "[encoded data removed]",
      "text/plain": [
       "<Figure size 432x288 with 1 Axes>"
      ]
     },
     "metadata": {
      "needs_background": "light"
     },
     "output_type": "display_data"
    },
    {
     "data": {
      "image/png": "[encoded data removed]",
      "text/plain": [
       "<Figure size 432x288 with 1 Axes>"
      ]
     },
     "metadata": {
      "needs_background": "light"
     },
     "output_type": "display_data"
    }
   ],
   "source": [
    "# visualization\n",
    "\n",
    "image = load_image('example.png')\n",
    "# cleaned = remove_small_objects(image)\n",
    "cleaned = leave_biggest_only(image)\n",
    "chull = find_convexhull(cleaned)\n",
    "\n",
    "edge = detect_edge(chull)\n",
    "edge_loc = np.argwhere(edge > 0)\n",
    "edge_loc_tuples = [tuple(i) for i in edge_loc]\n",
    "\n",
    "center = center_of_mass(image)\n",
    "major_axis_endpoints, _, major_axis_a, major_axis_b, major_axis_c = find_major_axis(edge_loc_tuples, center)\n",
    "half_axis = get_points_on_line(major_axis_a, major_axis_b, major_axis_c, center, (512, 512))\n",
    "\n",
    "interpolation_args = find_interpolation_args(center, edge_loc_tuples, half_axis)\n",
    "spline_x, spline_y = spline_interpolate(interpolation_args)\n",
    "new_image = floodfill_image(spline_x, spline_y, center, 255)\n",
    "\n",
    "plot_points(edge_loc, interpolation_args, center)\n",
    "plt.figure()\n",
    "overlap_image(chull, new_image)\n",
    "plt.figure()\n",
    "overlap_image(image, new_image)"
   ]
  },
  {
   "cell_type": "code",
   "execution_count": null,
   "metadata": {},
   "outputs": [],
   "source": []
  }
 ],
 "metadata": {
  "kernelspec": {
   "display_name": "Python 3",
   "language": "python",
   "name": "python3"
  },
  "language_info": {
   "codemirror_mode": {
    "name": "ipython",
    "version": 3
   },
   "file_extension": ".py",
   "mimetype": "text/x-python",
   "name": "python",
   "nbconvert_exporter": "python",
   "pygments_lexer": "ipython3",
   "version": "3.5.2"
  },
  "toc": {
   "base_numbering": 1,
   "nav_menu": {},
   "number_sections": true,
   "sideBar": true,
   "skip_h1_title": false,
   "title_cell": "Table of Contents",
   "title_sidebar": "Contents",
   "toc_cell": false,
   "toc_position": {},
   "toc_section_display": true,
   "toc_window_display": false
  },
  "varInspector": {
   "cols": {
    "lenName": 16,
    "lenType": 16,
    "lenVar": 40
   },
   "kernels_config": {
    "python": {
     "delete_cmd_postfix": "",
     "delete_cmd_prefix": "del ",
     "library": "var_list.py",
     "varRefreshCmd": "print(var_dic_list())"
    },
    "r": {
     "delete_cmd_postfix": ") ",
     "delete_cmd_prefix": "rm(",
     "library": "var_list.r",
     "varRefreshCmd": "cat(var_dic_list()) "
    }
   },
   "types_to_exclude": [
    "module",
    "function",
    "builtin_function_or_method",
    "instance",
    "_Feature"
   ],
   "window_display": false
  }
 },
 "nbformat": 4,
 "nbformat_minor": 2
}
